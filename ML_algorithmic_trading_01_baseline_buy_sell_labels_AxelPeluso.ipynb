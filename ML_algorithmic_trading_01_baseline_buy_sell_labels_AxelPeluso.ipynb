{
  "nbformat": 4,
  "nbformat_minor": 0,
  "metadata": {
    "colab": {
      "provenance": []
    },
    "kernelspec": {
      "name": "python3",
      "display_name": "Python 3"
    },
    "language_info": {
      "name": "python"
    }
  },
  "cells": [
    {
      "cell_type": "code",
      "execution_count": 29,
      "metadata": {
        "colab": {
          "base_uri": "https://localhost:8080/"
        },
        "id": "wGJtSasqYPlP",
        "outputId": "9974c3b0-6df9-4129-f141-f8da2d825cbb"
      },
      "outputs": [
        {
          "output_type": "stream",
          "name": "stderr",
          "text": [
            "\r[*********************100%***********************]  1 of 1 completed"
          ]
        },
        {
          "output_type": "stream",
          "name": "stdout",
          "text": [
            "Index(['Close', 'High', 'Low', 'Open', 'Volume'], dtype='object', name='Price')\n",
            "Price            Close       ret     mom_5     vol_5 label\n",
            "Date                                                      \n",
            "2025-08-08  229.090012  0.041485  0.025020  0.022712  Sell\n",
            "2025-08-11  227.179993 -0.008372  0.022390  0.026145   Buy\n",
            "2025-08-12  229.649994  0.010814  0.024976  0.023634   Buy\n",
            "2025-08-13  233.330002  0.015897  0.018225  0.019234  Sell\n",
            "2025-08-14  232.779999 -0.002360  0.011493  0.019403  Sell\n",
            "2025-08-15  231.589996 -0.005125  0.002171  0.010583  Sell\n",
            "2025-08-18  230.889999 -0.003027  0.003240  0.009463  Sell\n",
            "2025-08-19  230.559998 -0.001430  0.000791  0.008553  Sell\n",
            "2025-08-20  226.009995 -0.019932 -0.006375  0.007700  Sell\n",
            "2025-08-21  224.899994 -0.004923 -0.006888  0.007447  Sell\n"
          ]
        },
        {
          "output_type": "stream",
          "name": "stderr",
          "text": [
            "\n"
          ]
        }
      ],
      "source": [
        "import yfinance as yf\n",
        "import numpy as np\n",
        "import pandas as pd\n",
        "\n",
        "# 1. Download Apple (AAPL) stock data, auto-adjusted for splits/dividends\n",
        "df = yf.download('AAPL', start='2020-01-01', auto_adjust=True)\n",
        "\n",
        "# 2. If MultiIndex (sometimes happens with yfinance), drop the ticker level\n",
        "if isinstance(df.columns, pd.MultiIndex):\n",
        "    df.columns = df.columns.droplevel(1)\n",
        "\n",
        "print(df.columns)\n",
        "# Now df has columns like: ['Open','High','Low','Close','Volume']\n",
        "\n",
        "# 3. Compute daily log returns\n",
        "df['ret'] = np.log(df['Close']).diff()\n",
        "\n",
        "# 4. Compute features\n",
        "df['mom_5'] = df['ret'].rolling(5).mean()   # 5-day momentum (trend indicator)\n",
        "df['vol_5'] = df['ret'].rolling(5).std()    # 5-day volatility (risk indicator)\n",
        "\n",
        "# 5. Create trading signal labels: Buy if tomorrow’s return > 0, else Sell\n",
        "df['label'] = np.where(df['ret'].shift(-1) > 0, \"Buy\", \"Sell\")\n",
        "\n",
        "# 6. Show last 10 rows neatly formatted\n",
        "print(df[['Close', 'ret', 'mom_5', 'vol_5', 'label']].tail(10).to_string())"
      ]
    },
    {
      "cell_type": "markdown",
      "source": [
        "## Read results:\n",
        "\n",
        "Close → adjusted stock price.\n",
        "\n",
        "ret → daily log return.\n",
        "\n",
        "mom_5 → average of last 5 daily returns (positive = trend up).\n",
        "\n",
        "vol_5 → riskiness over last 5 days (higher = more volatile).\n",
        "\n",
        "label → your trading signal:\n",
        "\n",
        "**\"Buy\"** if next day’s return was > 0\n",
        "\n",
        "**\"Sell\"** if next day’s return was ≤ 0"
      ],
      "metadata": {
        "id": "dj4_Esuki7jr"
      }
    }
  ]
}